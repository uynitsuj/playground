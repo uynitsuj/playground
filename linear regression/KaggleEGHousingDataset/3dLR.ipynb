{
 "cells": [
  {
   "cell_type": "code",
   "execution_count": 33,
   "metadata": {},
   "outputs": [],
   "source": [
    "from mpl_toolkits import mplot3d\n",
    "import numpy as np\n",
    "#%matplotlib widget\n",
    "import matplotlib.pyplot as plt"
   ]
  },
  {
   "cell_type": "code",
   "execution_count": 35,
   "metadata": {},
   "outputs": [],
   "source": [
    "filename = 'data/kc_house_data.csv'\n",
    "data = np.genfromtxt(filename, delimiter=\",\", usecols=(2, 5, 14), names=True)\n",
    "#fig, ax = plt.subplots()\n",
    "#ax.plot(data['sqft_living'],data['price'], 'o', markersize = 1)\n",
    "#plt.title(\"King County, USA Housing Prices\")\n",
    "#plt.xlabel(\"Living Area ($m^2$)\")\n",
    "#plt.ylabel(\"Price ($)\")"
   ]
  },
  {
   "cell_type": "code",
   "execution_count": 36,
   "metadata": {},
   "outputs": [
    {
     "data": {
      "text/plain": [
       "Text(0.5, 0, 'Price ($)')"
      ]
     },
     "execution_count": 36,
     "metadata": {},
     "output_type": "execute_result"
    }
   ],
   "source": [
    "fig = plt.figure()\n",
    "ax = plt.axes(projection='3d')\n",
    "\n",
    "# Data for a three-dimensional line\n",
    "\"\"\"zline = np.linspace(0, 15, 1000)\n",
    "xline = np.sin(zline)\n",
    "yline = np.cos(zline)\n",
    "ax.plot3D(xline, yline, zline, 'gray')\n",
    "\"\"\"\n",
    "# Data for three-dimensional scattered points\n",
    "zdata = data['price']\n",
    "xdata = data['sqft_living']\n",
    "ydata = data['yr_built']\n",
    "ax.scatter3D(xdata, ydata, zdata, c=zdata, )\n",
    "\n",
    "ax.set_xlabel('Living Area ($m^2$)')\n",
    "ax.set_ylabel('Year Built')\n",
    "ax.set_zlabel('Price ($)')\n",
    "\n"
   ]
  },
  {
   "cell_type": "code",
   "execution_count": null,
   "metadata": {},
   "outputs": [],
   "source": []
  }
 ],
 "metadata": {
  "kernelspec": {
   "display_name": "Python 3.10.4 64-bit",
   "language": "python",
   "name": "python3"
  },
  "language_info": {
   "codemirror_mode": {
    "name": "ipython",
    "version": 3
   },
   "file_extension": ".py",
   "mimetype": "text/x-python",
   "name": "python",
   "nbconvert_exporter": "python",
   "pygments_lexer": "ipython3",
   "version": "3.10.4"
  },
  "orig_nbformat": 4,
  "vscode": {
   "interpreter": {
    "hash": "916dbcbb3f70747c44a77c7bcd40155683ae19c65e1c03b4aa3499c5328201f1"
   }
  }
 },
 "nbformat": 4,
 "nbformat_minor": 2
}
